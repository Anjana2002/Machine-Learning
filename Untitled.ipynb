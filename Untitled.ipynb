{
 "cells": [
  {
   "cell_type": "code",
   "execution_count": 2,
   "id": "54add9b6-00a1-4f95-83e3-f0f1a9581b75",
   "metadata": {},
   "outputs": [],
   "source": [
    "import numpy as np\n",
    "import matplotlib.pyplot as plt"
   ]
  },
  {
   "cell_type": "code",
   "execution_count": null,
   "id": "d94b1efa-4e16-45b3-8c88-b07aa716650b",
   "metadata": {},
   "outputs": [],
   "source": [
    "def gradient_descent(X,y, learning_rate, epochs):\n",
    "    m = 0;\n",
    "    b = 0;\n",
    "    n = len(X)\n",
    "    costs=[]\n",
    "    for epoch in range(epochs):\n",
    "        y_pred = m*X+b\n",
    "        error = y_pred - y\n",
    "        m -= learning_rate *(1/n)*np.sum(X*error)\n",
    "        b -= learning_rate *(1/n)*np.sum(error)\n",
    "        if epoch %100==0:\n",
    "            cost=(1/(2*n)) * learning_rate"
   ]
  },
  {
   "cell_type": "code",
   "execution_count": null,
   "id": "8b11b8da-91ba-434a-be29-87e1fef11037",
   "metadata": {},
   "outputs": [],
   "source": [
    "np.random.seed(45)\n",
    "X = np.random.rand(100)\n",
    "y = 2 +3*X+np.random.randn(100)*0.1\n",
    "epochs = 1000\n",
    "learning_rate = 0.1\n",
    "m,b = gradient_descent(X,y, learning_rate, epochs)\n",
    "print(m)\n",
    "print(b)"
   ]
  }
 ],
 "metadata": {
  "kernelspec": {
   "display_name": "Python 3 (ipykernel)",
   "language": "python",
   "name": "python3"
  },
  "language_info": {
   "codemirror_mode": {
    "name": "ipython",
    "version": 3
   },
   "file_extension": ".py",
   "mimetype": "text/x-python",
   "name": "python",
   "nbconvert_exporter": "python",
   "pygments_lexer": "ipython3",
   "version": "3.10.12"
  }
 },
 "nbformat": 4,
 "nbformat_minor": 5
}
