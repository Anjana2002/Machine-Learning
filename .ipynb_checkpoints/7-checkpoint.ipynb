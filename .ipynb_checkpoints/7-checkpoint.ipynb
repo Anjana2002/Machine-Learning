{
 "cells": [
  {
   "cell_type": "code",
   "execution_count": 3,
   "id": "8d2bfb58",
   "metadata": {},
   "outputs": [
    {
     "name": "stdout",
     "output_type": "stream",
     "text": [
      "Bias: 0.014896661412076366\n",
      "Variance: 5.6771539073345576e-05\n"
     ]
    }
   ],
   "source": [
    "import numpy as np\n",
    "import tensorflow as tf\n",
    "from sklearn.metrics import accuracy_score, mean_squared_error\n",
    "from sklearn.utils import resample\n",
    "\n",
    "fashion_mnist = tf.keras.datasets.fashion_mnist\n",
    "(X_train, y_train), (X_test, y_test) = fashion_mnist.load_data()\n",
    "\n",
    "X_train, X_test = X_train / 255.0, X_test / 255.0\n",
    "\n",
    "X_train = X_train.reshape(X_train.shape[0], -1)\n",
    "X_test = X_test.reshape(X_test.shape[0], -1)\n",
    "\n",
    "binary_indices_train = np.where((y_train == 0) | (y_train == 1))[0]\n",
    "binary_indices_test = np.where((y_test == 0) | (y_test == 1))[0]\n",
    "X_train_binary, y_train_binary = X_train[binary_indices_train], y_train[binary_indices_train]\n",
    "X_test_binary, y_test_binary = X_test[binary_indices_test], y_test[binary_indices_test]\n",
    "\n",
    "y_train_binary = np.where(y_train_binary == 0, 0, 1)\n",
    "y_test_binary = np.where(y_test_binary == 0, 0, 1)\n",
    "\n",
    "def train_and_predict(X_train, y_train, X_test):\n",
    "    m = np.zeros(X_train.shape[1])\n",
    "    c = 0\n",
    "    lr = 0.0001\n",
    "    epochs = 50\n",
    "    for _ in range(epochs):\n",
    "        for i in range(len(X_train)):\n",
    "            z = np.dot(m, X_train[i]) + c\n",
    "            error = y_train[i] - 1 / (1 + np.exp(-z))\n",
    "            m += lr * error * X_train[i]\n",
    "            c += lr * error\n",
    "    return 1 / (1 + np.exp(-np.dot(X_test, m) - c))\n",
    "\n",
    "n_models = 10\n",
    "all_predictions = []\n",
    "for _ in range(n_models):\n",
    "    X_resampled, y_resampled = resample(X_train_binary, y_train_binary)\n",
    "    predictions = train_and_predict(X_resampled, y_resampled, X_test_binary)\n",
    "    all_predictions.append(predictions)\n",
    "\n",
    "all_predictions = np.array(all_predictions)\n",
    "\n",
    "average_prediction = np.mean(all_predictions, axis=0)\n",
    "\n",
    "bias = mean_squared_error(y_test_binary, average_prediction)\n",
    "\n",
    "variance = np.mean(np.var(all_predictions, axis=0))\n",
    "\n",
    "print(\"Bias:\", bias)\n",
    "print(\"Variance:\", variance)"
   ]
  },
  {
   "cell_type": "code",
   "execution_count": null,
   "id": "479440a2",
   "metadata": {},
   "outputs": [],
   "source": []
  }
 ],
 "metadata": {
  "kernelspec": {
   "display_name": "Python 3 (ipykernel)",
   "language": "python",
   "name": "python3"
  },
  "language_info": {
   "codemirror_mode": {
    "name": "ipython",
    "version": 3
   },
   "file_extension": ".py",
   "mimetype": "text/x-python",
   "name": "python",
   "nbconvert_exporter": "python",
   "pygments_lexer": "ipython3",
   "version": "3.10.6"
  }
 },
 "nbformat": 4,
 "nbformat_minor": 5
}
