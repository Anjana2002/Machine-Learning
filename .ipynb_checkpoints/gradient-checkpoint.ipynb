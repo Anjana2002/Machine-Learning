{
 "cells": [
  {
   "cell_type": "markdown",
   "id": "4e09014e-2e04-48b3-b7a0-cd2ff83d67d0",
   "metadata": {},
   "source": [
    "### Implement the gradient descent algorithm for linear regression\n",
    "Equation of the Line y=mX+b\n",
    "m: The slope of the line, indicating how much y changes with a change in X.\n",
    "b: The intercept of the line, indicating the value of y when X is 0.\n",
    "\n",
    "Objective: The goal of linear regression is to find the values of m and b that minimize the difference between the predicted values of y and the actual values. This difference is often measured using a cost function, such as the Mean Squared Error (MSE):\n",
    "Cost=1/2n(∑(ypred-y)^2\n",
    "\n",
    "Gradient Descent: This is an optimization algorithm used to find the optimal values of m and b by iteratively updating them to reduce the cost function. The update rules are:\n",
    "m = m-learningrate× 1/n ∑X⋅error\n",
    "b = b-learningrate× 1/n ∑error"
   ]
  },
  {
   "cell_type": "code",
   "execution_count": 5,
   "id": "45b3175a-dc5f-4ea4-9737-19a9d7aba1a7",
   "metadata": {},
   "outputs": [],
   "source": [
    "import numpy as np\n",
    "import matplotlib.pyplot as plt"
   ]
  },
  {
   "cell_type": "code",
   "execution_count": 6,
   "id": "64de90a1-2729-4f7b-ad72-d5652ecb7fde",
   "metadata": {},
   "outputs": [],
   "source": [
    "def gradient_descent(X, y, learning_rate, epochs): #x-input feature, y-target value, learning rate- stepsize for updating parameter, epoch- no:of iteration\n",
    "    m = 0\n",
    "    b = 0\n",
    "    n = len(X)\n",
    "    costs = []\n",
    "    for epoch in range(epochs):\n",
    "        y_pred = m*X+b\n",
    "        error = y_pred-y\n",
    "        m -= learning_rate*(1/n)*np.sum(X*error)\n",
    "        b -= learning_rate*(1/n)*np.sum(error)\n",
    "        if epoch % 100==0:\n",
    "            cost = (1/(2*n)) * np.sum(error**2)\n",
    "            costs.append(cost)\n",
    "            print(f'Epoch:{epoch}, Cost:{cost}')\n",
    "    plt.plot(range(0, epochs, 100), costs, marker='o')\n",
    "    plt.xlabel('Epoch')\n",
    "    plt.ylabel('Cost')\n",
    "    plt.title('Epoch vs Cost')\n",
    "    plt.show()\n",
    "\n",
    "    return m,b "
   ]
  },
  {
   "cell_type": "markdown",
   "id": "a8ebe0ff-e2de-4219-8f7a-759a58154d81",
   "metadata": {},
   "source": [
    "X = np.random.rand(100) #array x with 100 random number btw 0 and 1\n",
    "y = 2+3*X + np.random.randn(100)*0.1 \n",
    "#y=β0+β1⋅X+ϵ, β0-intercept, β1-slope, ϵ-error term, np.random.randn(100): Generates 100 random values from a standard normal distribution (mean 0, variance 1).\n",
    "#* 0.1: Scales the noise to make it less significant. \n"
   ]
  },
  {
   "cell_type": "code",
   "execution_count": 7,
   "id": "ce7458d0-0a05-4a34-98fe-ae02f7461a67",
   "metadata": {},
   "outputs": [
    {
     "name": "stdout",
     "output_type": "stream",
     "text": [
      "Epoch:0, Cost:6.201838597515928\n",
      "Epoch:100, Cost:0.029416306865408297\n",
      "Epoch:200, Cost:0.010164975244755979\n",
      "Epoch:300, Cost:0.0055142882242454495\n",
      "Epoch:400, Cost:0.0043907872523807415\n",
      "Epoch:500, Cost:0.004119374786176467\n",
      "Epoch:600, Cost:0.00405380766282203\n",
      "Epoch:700, Cost:0.004037968126322113\n",
      "Epoch:800, Cost:0.004034141651959707\n",
      "Epoch:900, Cost:0.004033217262155361\n"
     ]
    },
    {
     "data": {
      "image/png": "[encoded data removed]",
      "text/plain": [
       "<Figure size 640x480 with 1 Axes>"
      ]
     },
     "metadata": {},
     "output_type": "display_data"
    },
    {
     "name": "stdout",
     "output_type": "stream",
     "text": [
      "Slope: 2.952757653921563\n",
      "Intercept: 2.022149709011742\n"
     ]
    }
   ],
   "source": [
    "np.random.seed(42)\n",
    "X = np.random.rand(100)\n",
    "y = 2+3*X + np.random.randn(100)*0.1\n",
    "epochs = 1000\n",
    "learning_rate = 0.1\n",
    "m,b = gradient_descent(X, y, learning_rate, epochs)\n",
    "print('Slope:',m)\n",
    "print('Intercept:',b)"
   ]
  }
 ],
 "metadata": {
  "kernelspec": {
   "display_name": "Python 3 (ipykernel)",
   "language": "python",
   "name": "python3"
  },
  "language_info": {
   "codemirror_mode": {
    "name": "ipython",
    "version": 3
   },
   "file_extension": ".py",
   "mimetype": "text/x-python",
   "name": "python",
   "nbconvert_exporter": "python",
   "pygments_lexer": "ipython3",
   "version": "3.10.12"
  }
 },
 "nbformat": 4,
 "nbformat_minor": 5
}
