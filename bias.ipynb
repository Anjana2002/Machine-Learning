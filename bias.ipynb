{
 "cells": [
  {
   "cell_type": "markdown",
   "id": "f762e3dd-0241-4966-aa96-26f93899bad5",
   "metadata": {},
   "source": [
    "### Evaluate the trained model on the Fashion MNIST dataset and analyze bias, variance, and the trade-off"
   ]
  },
  {
   "cell_type": "code",
   "execution_count": 3,
   "id": "ca575cb0-9319-41cf-bf3a-4dc2d567eace",
   "metadata": {},
   "outputs": [],
   "source": [
    "import numpy as np\n",
    "import tensorflow as tf\n",
    "from sklearn.metrics import accuracy_score, mean_squared_error\n",
    "from sklearn.utils import resample\n",
    "from tensorflow.keras.datasets import fashion_mnist"
   ]
  },
  {
   "cell_type": "code",
   "execution_count": 4,
   "id": "8d49fc0e-b533-43c5-b95b-b43ec7dc6379",
   "metadata": {},
   "outputs": [],
   "source": [
    "(x_train, y_train), (x_test, y_test) = fashion_mnist.load_data()\n",
    "x_train, x_test = x_train/255.0, x_test/255.0\n",
    "x_train = x_train.reshape(x_train.shape[0], -1)\n",
    "x_test = x_test.reshape(x_test.shape[0], -1)"
   ]
  },
  {
   "cell_type": "code",
   "execution_count": 5,
   "id": "9266390a-b34b-4b39-aa94-4b0f0d7ab485",
   "metadata": {},
   "outputs": [],
   "source": [
    "binary_train = np.where((y_train==0)|(y_train==1))[0]\n",
    "binary_test = np.where((y_test==1)|(y_test==0))[0]\n",
    "x_train_binary, y_train_binary = x_train[binary_train], y_train[binary_train]\n",
    "x_test_binary, y_test_binary = x_test[binary_test], y_test[binary_test]\n",
    "\n",
    "y_train_binary = np.where(y_train_binary==0,0,1)\n",
    "y_test_binary = np.where(y_test_binary==0,0,1)"
   ]
  },
  {
   "cell_type": "code",
   "execution_count": 16,
   "id": "5aa7d281-a055-4a7b-a1ee-8e6a5b632180",
   "metadata": {},
   "outputs": [],
   "source": [
    "def zigmoid(z):\n",
    "    return 1/(1+np.exp(-z))\n",
    "\n",
    "def train_and_predict(x_train, y_train, x_test):\n",
    "    m = np.zeros(x_train.shape[1])\n",
    "    b = 0\n",
    "    lr =0.0001\n",
    "    epochs = 50\n",
    "    for epoch in range(1, epochs+1):\n",
    "        for i in range(len(x_train)):\n",
    "            z = np.dot(m,x_train[i])+b\n",
    "            y_pred = zigmoid(z)\n",
    "            gr_wrt_m = x_train[i] *( y_train[i]-y_pred )\n",
    "            gr_wrt_b = y_train[i]-y_pred \n",
    "            m += lr *gr_wrt_m\n",
    "            b += lr*gr_wrt_b\n",
    "\n",
    "    prediction =[]\n",
    "    for i in range(len(x_test)):\n",
    "        z = np.dot(m,x_test[i])+b\n",
    "        y_pred = zigmoid(z)\n",
    "        prediction.append(y_pred)\n",
    "    return np.array(prediction)    \n",
    "\n"
   ]
  },
  {
   "cell_type": "code",
   "execution_count": 17,
   "id": "960672a2-51cc-4219-ba8a-7fdaf41e91a4",
   "metadata": {},
   "outputs": [],
   "source": [
    "n = 10\n",
    "all_prediction = []\n",
    "for _ in range(n):\n",
    "    x_resampled, y_resampled = resample(x_train_binary, y_train_binary)\n",
    "    prediction = train_and_predict(x_resampled, y_resampled, x_test_binary)\n",
    "    all_prediction.append(prediction)\n",
    "all_prediction = np.array(all_prediction)\n"
   ]
  },
  {
   "cell_type": "code",
   "execution_count": 18,
   "id": "18a9d0ee-b005-4a43-84cb-e97445ac9518",
   "metadata": {},
   "outputs": [
    {
     "name": "stdout",
     "output_type": "stream",
     "text": [
      "0.014878201963751494\n",
      "7.865517971756366e-05\n"
     ]
    }
   ],
   "source": [
    "avg_prediction = np.mean(all_prediction, axis=0)\n",
    "bias = mean_squared_error(y_test_binary, avg_prediction)\n",
    "variance = np.mean(np.var(all_prediction, axis=0))\n",
    "print(bias)\n",
    "print(variance)\n"
   ]
  }
 ],
 "metadata": {
  "kernelspec": {
   "display_name": "Python 3 (ipykernel)",
   "language": "python",
   "name": "python3"
  },
  "language_info": {
   "codemirror_mode": {
    "name": "ipython",
    "version": 3
   },
   "file_extension": ".py",
   "mimetype": "text/x-python",
   "name": "python",
   "nbconvert_exporter": "python",
   "pygments_lexer": "ipython3",
   "version": "3.10.12"
  }
 },
 "nbformat": 4,
 "nbformat_minor": 5
}
