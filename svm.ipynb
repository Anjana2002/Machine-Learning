{
 "cells": [
  {
   "cell_type": "code",
   "execution_count": 1,
   "id": "973eb1f2-9bc7-4768-8761-2fcaf03e7d1b",
   "metadata": {},
   "outputs": [],
   "source": [
    "import idx2numpy\n",
    "from sklearn.preprocessing import StandardScaler\n",
    "from sklearn.svm import SVC\n",
    "from sklearn.decomposition import PCA\n",
    "from sklearn.metrics import accuracy_score"
   ]
  },
  {
   "cell_type": "code",
   "execution_count": 2,
   "id": "08d1c373-a18a-419e-adeb-08d6b4ec821c",
   "metadata": {},
   "outputs": [],
   "source": [
    "def un_pack(filename):\n",
    "    return idx2numpy.convert_from_file(filename)"
   ]
  },
  {
   "cell_type": "code",
   "execution_count": 3,
   "id": "c82b26dd-9110-4218-90c8-d2c4eff3a7ac",
   "metadata": {},
   "outputs": [],
   "source": [
    "x_train = un_pack('train-images.idx3-ubyte')\n",
    "y_train = un_pack('train-labels.idx1-ubyte')\n",
    "x_test = un_pack('t10k-images.idx3-ubyte')\n",
    "y_test = un_pack('t10k-labels.idx1-ubyte')"
   ]
  },
  {
   "cell_type": "code",
   "execution_count": 4,
   "id": "984748dc-8b62-4541-b716-119348cd2d06",
   "metadata": {},
   "outputs": [],
   "source": [
    "x_train = x_train.reshape(x_train.shape[0], -1)\n",
    "x_test = x_test.reshape(x_test.shape[0], -1)"
   ]
  },
  {
   "cell_type": "code",
   "execution_count": 5,
   "id": "1283807e-9d1b-4a86-ac15-7138146b0907",
   "metadata": {},
   "outputs": [],
   "source": [
    "scaler = StandardScaler()\n",
    "x_train = scaler.fit_transform(x_train)\n",
    "x_test = scaler.transform(x_test)"
   ]
  },
  {
   "cell_type": "code",
   "execution_count": 6,
   "id": "811d54e0-d143-4f8d-b6a6-4fb3dd99d6ad",
   "metadata": {},
   "outputs": [],
   "source": [
    "pca = PCA(n_components=0.95)\n",
    "x_train_pca = pca.fit_transform(x_train)\n",
    "x_test_pca = pca.transform(x_test)"
   ]
  },
  {
   "cell_type": "code",
   "execution_count": 7,
   "id": "b6a7b130-e3cb-4140-a1d9-e7e9f4ff4699",
   "metadata": {},
   "outputs": [
    {
     "name": "stdout",
     "output_type": "stream",
     "text": [
      "0.9406\n"
     ]
    }
   ],
   "source": [
    "svc = SVC(kernel='linear', random_state=42)\n",
    "svc.fit(x_train_pca, y_train)\n",
    "y_pred = svc.predict(x_test_pca)\n",
    "accuracy = accuracy_score(y_pred, y_test)\n",
    "print(accuracy)"
   ]
  }
 ],
 "metadata": {
  "kernelspec": {
   "display_name": "Python 3 (ipykernel)",
   "language": "python",
   "name": "python3"
  },
  "language_info": {
   "codemirror_mode": {
    "name": "ipython",
    "version": 3
   },
   "file_extension": ".py",
   "mimetype": "text/x-python",
   "name": "python",
   "nbconvert_exporter": "python",
   "pygments_lexer": "ipython3",
   "version": "3.10.12"
  }
 },
 "nbformat": 4,
 "nbformat_minor": 5
}
